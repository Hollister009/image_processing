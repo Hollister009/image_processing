{
 "cells": [
  {
   "cell_type": "markdown",
   "id": "35b6e9b0",
   "metadata": {},
   "source": [
    "## Lab1\n",
    "by Andrii Zhukevych\n",
    "\n",
    "Description:\n",
    "Skeletonize the input image using one of the thining algorithms (ZhangSuen)"
   ]
  },
  {
   "cell_type": "code",
   "execution_count": 5,
   "id": "3e931991",
   "metadata": {},
   "outputs": [],
   "source": [
    "import cv2 as cv\n",
    "import numpy as np\n",
    "from skimage.morphology import skeletonize"
   ]
  },
  {
   "cell_type": "code",
   "execution_count": 6,
   "id": "221d8d11",
   "metadata": {},
   "outputs": [],
   "source": [
    "# Load the image\n",
    "image = cv.imread('./resources/horse.png', 0)"
   ]
  },
  {
   "cell_type": "code",
   "execution_count": 7,
   "id": "556a0755",
   "metadata": {},
   "outputs": [],
   "source": [
    "# Threshold the image with value 127\n",
    "ret, image = cv.threshold(image, 127, 255, 0)\n",
    "original = image.copy()"
   ]
  },
  {
   "cell_type": "code",
   "execution_count": 8,
   "id": "3a48a516",
   "metadata": {},
   "outputs": [],
   "source": [
    "# Normalize input to have 1s instead of 255s\n",
    "image = cv.normalize(image, None, alpha=0, beta=1, norm_type=cv.NORM_MINMAX)"
   ]
  },
  {
   "cell_type": "code",
   "execution_count": 9,
   "id": "70cdaad7",
   "metadata": {},
   "outputs": [
    {
     "name": "stdout",
     "output_type": "stream",
     "text": [
      "[[0 0 0 ... 0 0 0]\n",
      " [0 0 0 ... 0 0 0]\n",
      " [0 0 0 ... 0 0 0]\n",
      " ...\n",
      " [0 0 0 ... 0 0 0]\n",
      " [0 0 0 ... 0 0 0]\n",
      " [0 0 0 ... 0 0 0]]\n"
     ]
    }
   ],
   "source": [
    "# Skeletonize image\n",
    "skeleton = skeletonize(image) * 1\n",
    "print(skeleton)"
   ]
  },
  {
   "cell_type": "code",
   "execution_count": 10,
   "id": "7386369f",
   "metadata": {},
   "outputs": [],
   "source": [
    "# Normalize output to have 255s instead of 1s\n",
    "skeleton = cv.normalize(skeleton, None, alpha=0, beta=255, norm_type=cv.NORM_MINMAX)\n",
    "skeleton = skeleton.astype(np.uint8)"
   ]
  },
  {
   "cell_type": "code",
   "execution_count": 11,
   "id": "37964522",
   "metadata": {},
   "outputs": [],
   "source": [
    "# Import Matplotlib\n",
    "%matplotlib inline\n",
    "import matplotlib.pyplot as plt"
   ]
  },
  {
   "cell_type": "code",
   "execution_count": 15,
   "id": "8663b443",
   "metadata": {},
   "outputs": [
    {
     "data": {
      "image/png": "[encoded data removed]",
      "text/plain": [
       "<Figure size 800x400 with 2 Axes>"
      ]
     },
     "metadata": {},
     "output_type": "display_data"
    }
   ],
   "source": [
    "# Display results\n",
    "fig, axes = plt.subplots(nrows=1, ncols=2, figsize=(8, 4),\n",
    "                         sharex=True, sharey=True)\n",
    "\n",
    "ax = axes.ravel()\n",
    "\n",
    "ax[0].imshow(image, cmap=plt.cm.gray)\n",
    "ax[0].axis('off')\n",
    "ax[0].set_title('original', fontsize=20)\n",
    "\n",
    "ax[1].imshow(skeleton, cmap=plt.cm.gray)\n",
    "ax[1].axis('off')\n",
    "ax[1].set_title('skeleton', fontsize=20)\n",
    "\n",
    "fig.tight_layout()\n",
    "plt.show()"
   ]
  },
  {
   "cell_type": "code",
   "execution_count": null,
   "id": "7d416f7b",
   "metadata": {},
   "outputs": [],
   "source": []
  }
 ],
 "metadata": {
  "kernelspec": {
   "display_name": "Python 3 (ipykernel)",
   "language": "python",
   "name": "python3"
  },
  "language_info": {
   "codemirror_mode": {
    "name": "ipython",
    "version": 3
   },
   "file_extension": ".py",
   "mimetype": "text/x-python",
   "name": "python",
   "nbconvert_exporter": "python",
   "pygments_lexer": "ipython3",
   "version": "3.8.6"
  }
 },
 "nbformat": 4,
 "nbformat_minor": 5
}
